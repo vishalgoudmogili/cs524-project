{
  "nbformat": 4,
  "nbformat_minor": 0,
  "metadata": {
    "colab": {
      "provenance": []
    },
    "kernelspec": {
      "name": "python3",
      "display_name": "Python 3"
    },
    "language_info": {
      "name": "python"
    }
  },
  "cells": [
    {
      "cell_type": "code",
      "execution_count": 3,
      "metadata": {
        "id": "8ZiX2HbzqJJq"
      },
      "outputs": [],
      "source": [
        "import pandas as pd\n",
        "import geopandas as gpd\n",
        "from shapely import wkt\n",
        "import os\n",
        "import numpy as np\n",
        "\n",
        "# File paths\n",
        "street_data_path = \"/content/drive/MyDrive/CS524/crime_data_2013_onward.csv\"  # Crime data\n",
        "street_shapefile_path = \"/content/drive/MyDrive/CS524/LVI/transportation_20241202.csv\"  # Street shapefile data\n",
        "lpi_files_path = \"/content/drive/MyDrive/CS524/LPI/\"  # LPI files\n",
        "geojson_output_folder = \"/content/drive/MyDrive/CS524/LVI/GeoJSON/\"  # GeoJSON files\n",
        "crime_lvi_files_path = \"/content/drive/MyDrive/CS524/LVI/crime/\"  # LVI files\n",
        "streetlight_outages_path = \"/content/drive/MyDrive/CS524/streetlight_outages.csv\"\n",
        "\n",
        "# street data with id and block\n",
        "street_data = pd.read_csv(street_data_path)[['id', 'block']]\n",
        "shapefile_data = pd.read_csv(street_shapefile_path)\n",
        "\n",
        "\n",
        "# filter streetlight outage data with creation and completion dates\n",
        "outage_data = pd.read_csv(streetlight_outages_path)\n",
        "outage_data['Creation Date'] = pd.to_datetime(outage_data['Creation Date'])\n",
        "outage_data['Completion Date'] = pd.to_datetime(outage_data['Completion Date'])"
      ]
    },
    {
      "cell_type": "code",
      "source": [
        "os.makedirs(geojson_output_folder, exist_ok=True)\n",
        "\n",
        "# Combine columns to get street name\n",
        "shapefile_data['street_name'] = (\n",
        "    shapefile_data['PRE_DIR'].str.strip() + \" \" +\n",
        "    shapefile_data['STREET_NAM'].str.strip() + \" \" +\n",
        "    shapefile_data['STREET_TYP'].str.strip()\n",
        ").str.upper()\n",
        "\n",
        "shapefile_data['geometry'] = shapefile_data['the_geom'].apply(wkt.loads)\n",
        "street_gdf = gpd.GeoDataFrame(shapefile_data, geometry='geometry', crs='EPSG:4326')\n",
        "\n",
        "# function to assign streetlight outages to crimes in a 100m threshold\n",
        "def assign_streetlight_outage(crime_date, crime_location):\n",
        "    \"\"\"\n",
        "    Assigns a streetlight outage (1 for outage, 0 for no outage) based on proximity and active outage dates.\n",
        "    \"\"\"\n",
        "    active_outages = outage_data[\n",
        "        (outage_data['Creation Date'] <= crime_date) & (outage_data['Completion Date'] >= crime_date)\n",
        "    ]\n",
        "\n",
        "    for _, outage in active_outages.iterrows():\n",
        "        outage_location = (outage['Latitude'], outage['Longitude'])\n",
        "        distance = geodesic(crime_location, outage_location).meters\n",
        "\n",
        "        if distance <= 100:\n",
        "            return 1\n",
        "    return 0"
      ],
      "metadata": {
        "id": "G5xcsAmUqVdz"
      },
      "execution_count": 4,
      "outputs": []
    },
    {
      "cell_type": "code",
      "source": [
        "\n",
        "import json\n",
        "# Process each year's LPI Excel file\n",
        "for year in range(2013, 2024):\n",
        "    lpi_file_path = os.path.join(lpi_files_path, f\"light_pollution_crime_data_{year}.xlsx\")\n",
        "    if not os.path.exists(lpi_file_path):\n",
        "        print(f\"File not found: {lpi_file_path}, skipping...\")\n",
        "        continue\n",
        "\n",
        "    print(f\"Processing {year}...\")\n",
        "\n",
        "    lpi_data = pd.read_excel(lpi_file_path)\n",
        "    merged_data = pd.merge(lpi_data, street_data, left_on=\"crime_id\", right_on=\"id\", how=\"left\")\n",
        "\n",
        "    merged_data['street_light_outage'] = merged_data.apply(\n",
        "        lambda row: assign_streetlight_outage(row['date'], (row['latitude'], row['longitude'])), axis=1\n",
        "    )\n",
        "\n",
        "    merged_data['street'] = merged_data['block'].str[5:].str.strip().str.upper()\n",
        "\n",
        "    output_path = os.path.join(crime_lvi_files_path, f\"crime_final_{year}.csv\")\n",
        "    merged_data.to_csv(output_path, index=True)\n",
        "\n",
        "    # Group data to calculate LVI\n",
        "    street_lvi = merged_data.groupby('street').apply(\n",
        "        lambda x: pd.Series({\n",
        "            'LVI': 0.7 * x['light_pollution_index'].mean() + 0.3 * x['street_light_outage'].mean(),\n",
        "            'LPI': x['light_pollution_index'].mean(),\n",
        "            'Street_Light_Outage': x['street_light_outage'].mean(),\n",
        "            'Top_Crime': x['primary_type'].mode()[0] if not x['primary_type'].mode().empty else None,\n",
        "            'Crime_Count': len(x),\n",
        "            'Frequent_Time': x['date'].dt.hour.mode()[0] if not x['date'].dt.hour.mode().empty else None,\n",
        "            'monthly_crime_counts': json.dumps(x['date'].dt.month.value_counts().to_dict())\n",
        "        })\n",
        "    ).reset_index()\n",
        "\n",
        "    # Merge the street-level LVI with shapefile GeoDataFrame and generate a geoJSON\n",
        "    street_lvi['street_name'] = street_lvi['street']\n",
        "    merged_gdf = street_gdf.merge(street_lvi, on='street_name', how='left')\n",
        "\n",
        "    geojson_output_path = os.path.join(geojson_output_folder, f\"street_lvi_{year}.geojson\")\n",
        "    merged_gdf.to_file(geojson_output_path, driver=\"GeoJSON\")\n",
        "    print(f\"GeoJSON file for {year} saved to {geojson_output_path}\")"
      ],
      "metadata": {
        "colab": {
          "base_uri": "https://localhost:8080/"
        },
        "id": "sCuBYauBqPEu",
        "outputId": "781f92dc-ebae-41f5-ca1e-b25c039c80d2"
      },
      "execution_count": null,
      "outputs": [
        {
          "output_type": "stream",
          "name": "stdout",
          "text": [
            "Processing 2013...\n"
          ]
        },
        {
          "output_type": "stream",
          "name": "stderr",
          "text": [
            "<ipython-input-5-f8bb748309cc>:27: DeprecationWarning: DataFrameGroupBy.apply operated on the grouping columns. This behavior is deprecated, and in a future version of pandas the grouping columns will be excluded from the operation. Either pass `include_groups=False` to exclude the groupings or explicitly select the grouping columns after groupby to silence this warning.\n",
            "  street_lvi = merged_data.groupby('street').apply(\n"
          ]
        },
        {
          "output_type": "stream",
          "name": "stdout",
          "text": [
            "GeoJSON file for 2013 saved to /content/drive/MyDrive/CS524/LVI/GeoJSON/street_lvi_2013.geojson\n",
            "Processing 2014...\n"
          ]
        },
        {
          "output_type": "stream",
          "name": "stderr",
          "text": [
            "<ipython-input-5-f8bb748309cc>:27: DeprecationWarning: DataFrameGroupBy.apply operated on the grouping columns. This behavior is deprecated, and in a future version of pandas the grouping columns will be excluded from the operation. Either pass `include_groups=False` to exclude the groupings or explicitly select the grouping columns after groupby to silence this warning.\n",
            "  street_lvi = merged_data.groupby('street').apply(\n"
          ]
        },
        {
          "output_type": "stream",
          "name": "stdout",
          "text": [
            "GeoJSON file for 2014 saved to /content/drive/MyDrive/CS524/LVI/GeoJSON/street_lvi_2014.geojson\n",
            "Processing 2015...\n"
          ]
        },
        {
          "output_type": "stream",
          "name": "stderr",
          "text": [
            "<ipython-input-5-f8bb748309cc>:27: DeprecationWarning: DataFrameGroupBy.apply operated on the grouping columns. This behavior is deprecated, and in a future version of pandas the grouping columns will be excluded from the operation. Either pass `include_groups=False` to exclude the groupings or explicitly select the grouping columns after groupby to silence this warning.\n",
            "  street_lvi = merged_data.groupby('street').apply(\n"
          ]
        },
        {
          "output_type": "stream",
          "name": "stdout",
          "text": [
            "GeoJSON file for 2015 saved to /content/drive/MyDrive/CS524/LVI/GeoJSON/street_lvi_2015.geojson\n",
            "Processing 2016...\n"
          ]
        },
        {
          "output_type": "stream",
          "name": "stderr",
          "text": [
            "<ipython-input-5-f8bb748309cc>:27: DeprecationWarning: DataFrameGroupBy.apply operated on the grouping columns. This behavior is deprecated, and in a future version of pandas the grouping columns will be excluded from the operation. Either pass `include_groups=False` to exclude the groupings or explicitly select the grouping columns after groupby to silence this warning.\n",
            "  street_lvi = merged_data.groupby('street').apply(\n"
          ]
        },
        {
          "output_type": "stream",
          "name": "stdout",
          "text": [
            "GeoJSON file for 2016 saved to /content/drive/MyDrive/CS524/LVI/GeoJSON/street_lvi_2016.geojson\n",
            "Processing 2017...\n"
          ]
        },
        {
          "output_type": "stream",
          "name": "stderr",
          "text": [
            "<ipython-input-5-f8bb748309cc>:27: DeprecationWarning: DataFrameGroupBy.apply operated on the grouping columns. This behavior is deprecated, and in a future version of pandas the grouping columns will be excluded from the operation. Either pass `include_groups=False` to exclude the groupings or explicitly select the grouping columns after groupby to silence this warning.\n",
            "  street_lvi = merged_data.groupby('street').apply(\n"
          ]
        },
        {
          "output_type": "stream",
          "name": "stdout",
          "text": [
            "GeoJSON file for 2017 saved to /content/drive/MyDrive/CS524/LVI/GeoJSON/street_lvi_2017.geojson\n",
            "Processing 2018...\n"
          ]
        },
        {
          "output_type": "stream",
          "name": "stderr",
          "text": [
            "<ipython-input-5-f8bb748309cc>:27: DeprecationWarning: DataFrameGroupBy.apply operated on the grouping columns. This behavior is deprecated, and in a future version of pandas the grouping columns will be excluded from the operation. Either pass `include_groups=False` to exclude the groupings or explicitly select the grouping columns after groupby to silence this warning.\n",
            "  street_lvi = merged_data.groupby('street').apply(\n"
          ]
        },
        {
          "output_type": "stream",
          "name": "stdout",
          "text": [
            "GeoJSON file for 2018 saved to /content/drive/MyDrive/CS524/LVI/GeoJSON/street_lvi_2018.geojson\n",
            "Processing 2019...\n"
          ]
        },
        {
          "output_type": "stream",
          "name": "stderr",
          "text": [
            "<ipython-input-5-f8bb748309cc>:27: DeprecationWarning: DataFrameGroupBy.apply operated on the grouping columns. This behavior is deprecated, and in a future version of pandas the grouping columns will be excluded from the operation. Either pass `include_groups=False` to exclude the groupings or explicitly select the grouping columns after groupby to silence this warning.\n",
            "  street_lvi = merged_data.groupby('street').apply(\n"
          ]
        },
        {
          "output_type": "stream",
          "name": "stdout",
          "text": [
            "GeoJSON file for 2019 saved to /content/drive/MyDrive/CS524/LVI/GeoJSON/street_lvi_2019.geojson\n",
            "Processing 2020...\n"
          ]
        },
        {
          "output_type": "stream",
          "name": "stderr",
          "text": [
            "<ipython-input-5-f8bb748309cc>:27: DeprecationWarning: DataFrameGroupBy.apply operated on the grouping columns. This behavior is deprecated, and in a future version of pandas the grouping columns will be excluded from the operation. Either pass `include_groups=False` to exclude the groupings or explicitly select the grouping columns after groupby to silence this warning.\n",
            "  street_lvi = merged_data.groupby('street').apply(\n"
          ]
        },
        {
          "output_type": "stream",
          "name": "stdout",
          "text": [
            "GeoJSON file for 2020 saved to /content/drive/MyDrive/CS524/LVI/GeoJSON/street_lvi_2020.geojson\n",
            "Processing 2021...\n"
          ]
        },
        {
          "output_type": "stream",
          "name": "stderr",
          "text": [
            "<ipython-input-5-f8bb748309cc>:27: DeprecationWarning: DataFrameGroupBy.apply operated on the grouping columns. This behavior is deprecated, and in a future version of pandas the grouping columns will be excluded from the operation. Either pass `include_groups=False` to exclude the groupings or explicitly select the grouping columns after groupby to silence this warning.\n",
            "  street_lvi = merged_data.groupby('street').apply(\n"
          ]
        },
        {
          "output_type": "stream",
          "name": "stdout",
          "text": [
            "GeoJSON file for 2021 saved to /content/drive/MyDrive/CS524/LVI/GeoJSON/street_lvi_2021.geojson\n",
            "Processing 2022...\n"
          ]
        },
        {
          "output_type": "stream",
          "name": "stderr",
          "text": [
            "<ipython-input-5-f8bb748309cc>:27: DeprecationWarning: DataFrameGroupBy.apply operated on the grouping columns. This behavior is deprecated, and in a future version of pandas the grouping columns will be excluded from the operation. Either pass `include_groups=False` to exclude the groupings or explicitly select the grouping columns after groupby to silence this warning.\n",
            "  street_lvi = merged_data.groupby('street').apply(\n"
          ]
        },
        {
          "output_type": "stream",
          "name": "stdout",
          "text": [
            "GeoJSON file for 2022 saved to /content/drive/MyDrive/CS524/LVI/GeoJSON/street_lvi_2022.geojson\n",
            "Processing 2023...\n"
          ]
        },
        {
          "output_type": "stream",
          "name": "stderr",
          "text": [
            "<ipython-input-5-f8bb748309cc>:27: DeprecationWarning: DataFrameGroupBy.apply operated on the grouping columns. This behavior is deprecated, and in a future version of pandas the grouping columns will be excluded from the operation. Either pass `include_groups=False` to exclude the groupings or explicitly select the grouping columns after groupby to silence this warning.\n",
            "  street_lvi = merged_data.groupby('street').apply(\n"
          ]
        },
        {
          "output_type": "stream",
          "name": "stdout",
          "text": [
            "GeoJSON file for 2023 saved to /content/drive/MyDrive/CS524/LVI/GeoJSON/street_lvi_2023.geojson\n"
          ]
        }
      ]
    }
  ]
}